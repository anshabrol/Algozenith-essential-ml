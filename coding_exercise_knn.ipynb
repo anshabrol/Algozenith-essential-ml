{
  "nbformat": 4,
  "nbformat_minor": 0,
  "metadata": {
    "colab": {
      "provenance": [],
      "include_colab_link": true
    },
    "kernelspec": {
      "name": "python3",
      "display_name": "Python 3"
    },
    "language_info": {
      "name": "python"
    }
  },
  "cells": [
    {
      "cell_type": "markdown",
      "metadata": {
        "id": "view-in-github",
        "colab_type": "text"
      },
      "source": [
        "<a href=\"https://colab.research.google.com/github/anshabrol/Algozenith-essential-ml/blob/main/coding_exercise_knn.ipynb\" target=\"_parent\"><img src=\"https://colab.research.google.com/assets/colab-badge.svg\" alt=\"Open In Colab\"/></a>"
      ]
    },
    {
      "cell_type": "markdown",
      "source": [
        "### Walkthrough of the KNN Code with Tasks\n",
        "\n",
        "#### Step-by-Step Code Explanation\n",
        "\n",
        "**Step 1: Dataset Preparation**\n",
        "- **Code:**\n",
        "  ```python\n",
        "  data = {\n",
        "      'feature1': [1, 2, 3, 6, 7, 8],\n",
        "      'feature2': [2, 3, 4, 7, 8, 9],\n",
        "      'target': [0, 0, 0, 1, 1, 1]\n",
        "  }\n",
        "  X = np.array(list(zip(data['feature1'], data['feature2'])))\n",
        "  y = np.array(data['target'])\n",
        "  ```\n",
        "- **Explanation:**\n",
        "  We start by defining a simple dataset with two features and a target variable. This dataset is converted into numpy arrays for easier manipulation.\n",
        "\n",
        "**Step 2: Euclidean Distance Function**\n",
        "- **Code:**\n",
        "  ```python\n",
        "  def euclidean_distance(a, b):\n",
        "      #TASK: Calculate and return the distance between any two points\n",
        "  ```\n",
        "- **Explanation:**\n",
        "  The `euclidean_distance` function is used to calculate the distance between two points. This is essential for the KNN algorithm to find the nearest neighbors.\n",
        "\n",
        "**Step 3: KNN Prediction Function**\n",
        "- **Code:**\n",
        "  ```python\n",
        "  def knn_predict(X_train, y_train, x_test, k=3):\n",
        "      distances = []\n",
        "      for i in range(len(X_train)):\n",
        "          # TASK: Calculate the distance between the test point and each training point\n",
        "          distance =\n",
        "          distances.append((distance, y_train[i]))\n",
        "      \n",
        "      # Sort the distances and select the k nearest neighbors\n",
        "      distances.sort(key=lambda x: x[0])\n",
        "      k_nearest_neighbors = distances[:k]\n",
        "      \n",
        "      # TASK: Extract the labels of the k nearest neighbors\n",
        "      k_nearest_labels =\n",
        "      \n",
        "      # TASK: Determine the most common label (majority vote)\n",
        "      prediction =\n",
        "      return prediction\n",
        "  ```\n",
        "- **Explanation:**\n",
        "  The `knn_predict` function performs the core KNN algorithm:\n",
        "  - **Distance Calculation:** Calculates the distance between the test point and each training point.\n",
        "  - **Sorting:** Sorts the distances and selects the `k` nearest neighbors.\n",
        "  - **Majority Vote:** Determines the most common label among the nearest neighbors.\n",
        "\n",
        "**Step 4: Testing the Prediction**\n",
        "- **Code:**\n",
        "  ```python\n",
        "  X_test = np.array([5, 5])  # Example test input\n",
        "  prediction = knn_predict(X, y, X_test, k=3)\n",
        "  print(\"Predicted class:\", prediction)\n",
        "  ```\n",
        "- **Explanation:**\n",
        "  We test the `knn_predict` function with a sample test input to see the predicted class. This helps verify that the KNN implementation is working correctly.\n"
      ],
      "metadata": {
        "id": "-oZPbecQE0yY"
      }
    },
    {
      "cell_type": "code",
      "execution_count": null,
      "metadata": {
        "id": "kZU4nC-5DULq"
      },
      "outputs": [],
      "source": [
        "import numpy as np\n",
        "\n",
        "# Given dataset\n",
        "data = {\n",
        "    'feature1': [1, 2, 3, 6, 7, 8],\n",
        "    'feature2': [2, 3, 4, 7, 8, 9],\n",
        "    'target': [0, 0, 0, 1, 1, 1]\n",
        "}\n",
        "\n",
        "# Convert the dataset to numpy arrays\n",
        "X = np.array(list(zip(data['feature1'], data['feature2'])))\n",
        "y = np.array(data['target'])\n",
        "\n",
        "# Function to calculate Euclidean distance\n",
        "def euclidean_distance(a, b):\n",
        "    #TASK: Calculate and return the distance between any two points\n",
        "\n",
        "\n",
        "def knn_predict(X_train, y_train, x_test, k=3):\n",
        "    distances = []\n",
        "    for i in range(len(X_train)):\n",
        "        # TASK: Calculate the distance between the test point and each training point\n",
        "        distance =\n",
        "        distances.append((distance, y_train[i]))\n",
        "\n",
        "    # Sort the distances and select the k nearest neighbors\n",
        "    distances.sort(key=lambda x: x[0])\n",
        "    k_nearest_neighbors = distances[:k]\n",
        "\n",
        "    # TASK: Extract the labels of the k nearest neighbors\n",
        "    k_nearest_labels =\n",
        "\n",
        "    # TASK: Determine the most common label (majority vote)\n",
        "    prediction =\n",
        "    return prediction\n",
        "\n",
        "X_test = np.array([5, 5])  # Example test input\n",
        "prediction = knn_predict(X, y, X_test, k=3)\n",
        "print(\"Predicted class:\", prediction)"
      ]
    },
    {
      "cell_type": "markdown",
      "source": [
        "**SOLUTION**"
      ],
      "metadata": {
        "id": "PO4cPGuYES4o"
      }
    },
    {
      "cell_type": "code",
      "source": [
        "import numpy as np\n",
        "\n",
        "# Given dataset\n",
        "data = {\n",
        "    'feature1': [1, 2, 3, 6, 7, 8],\n",
        "    'feature2': [2, 3, 4, 7, 8, 9],\n",
        "    'target': [0, 0, 0, 1, 1, 1]\n",
        "}\n",
        "\n",
        "# Convert the dataset to numpy arrays\n",
        "X = np.array(list(zip(data['feature1'], data['feature2'])))\n",
        "y = np.array(data['target'])\n",
        "\n",
        "# Function to calculate Euclidean distance\n",
        "def euclidean_distance(a, b):\n",
        "    return np.sqrt(np.sum((a - b) ** 2))\n",
        "\n",
        "def knn_predict(X_train, y_train, x_test, k=3):\n",
        "    distances = []\n",
        "    for i in range(len(X_train)):\n",
        "        # Calculate the distance between the test point and each training point\n",
        "        distance = euclidean_distance(X_train[i], x_test)\n",
        "        distances.append((distance, y_train[i]))\n",
        "\n",
        "    # Sort the distances and select the k nearest neighbors\n",
        "    distances.sort(key=lambda x: x[0])\n",
        "    k_nearest_neighbors = distances[:k]\n",
        "\n",
        "    # Extract the labels of the k nearest neighbors\n",
        "    k_nearest_labels = [label for (_, label) in k_nearest_neighbors]\n",
        "\n",
        "    # Determine the most common label (majority vote)\n",
        "    prediction = max(set(k_nearest_labels), key=k_nearest_labels.count)\n",
        "    return prediction\n",
        "\n",
        "X_test = np.array([5, 5])  # Example test input\n",
        "prediction = knn_predict(X, y, X_test, k=3)\n",
        "print(\"Predicted class:\", prediction)"
      ],
      "metadata": {
        "id": "5-n8t0C8EOWT"
      },
      "execution_count": null,
      "outputs": []
    }
  ]
}