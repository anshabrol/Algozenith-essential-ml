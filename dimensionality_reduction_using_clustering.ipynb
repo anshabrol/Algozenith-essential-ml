{
  "nbformat": 4,
  "nbformat_minor": 0,
  "metadata": {
    "colab": {
      "provenance": [],
      "include_colab_link": true
    },
    "kernelspec": {
      "name": "python3",
      "display_name": "Python 3"
    },
    "language_info": {
      "name": "python"
    }
  },
  "cells": [
    {
      "cell_type": "markdown",
      "metadata": {
        "id": "view-in-github",
        "colab_type": "text"
      },
      "source": [
        "<a href=\"https://colab.research.google.com/github/anshabrol/Algozenith-essential-ml/blob/main/dimensionality_reduction_using_clustering.ipynb\" target=\"_parent\"><img src=\"https://colab.research.google.com/assets/colab-badge.svg\" alt=\"Open In Colab\"/></a>"
      ]
    },
    {
      "cell_type": "markdown",
      "source": [
        "Solution Code"
      ],
      "metadata": {
        "id": "aKh1qQZhVZm6"
      }
    },
    {
      "cell_type": "code",
      "source": [
        "import requests\n",
        "from bs4 import BeautifulSoup\n",
        "import zipfile\n",
        "import io\n",
        "import pandas as pd\n",
        "from sklearn.cluster import KMeans\n",
        "from sklearn.model_selection import train_test_split\n",
        "from sklearn.preprocessing import LabelEncoder, StandardScaler\n",
        "from sklearn.linear_model import LogisticRegression\n",
        "from sklearn.pipeline import Pipeline\n",
        "from sklearn.metrics import accuracy_score, classification_report\n",
        "import numpy as np\n",
        "import time\n",
        "\n",
        "# Function to download and load dataset\n",
        "def load_data():\n",
        "    page_url = 'https://archive.ics.uci.edu/dataset/240/human+activity+recognition+using+smartphones'\n",
        "    page_response = requests.get(page_url)\n",
        "    if page_response.status_code == 200:\n",
        "        soup = BeautifulSoup(page_response.content, 'html.parser')\n",
        "        download_link = soup.select_one('a[href$=\".zip\"]')['href']\n",
        "        full_download_url = 'https://archive.ics.uci.edu' + download_link\n",
        "        response = requests.get(full_download_url)\n",
        "        if response.status_code == 200:\n",
        "            with zipfile.ZipFile(io.BytesIO(response.content)) as outer_zip:\n",
        "                inner_zip_name = 'UCI HAR Dataset.zip'\n",
        "                with outer_zip.open(inner_zip_name) as inner_zip_file:\n",
        "                    with zipfile.ZipFile(io.BytesIO(inner_zip_file.read())) as inner_zip:\n",
        "                        with inner_zip.open('UCI HAR Dataset/train/X_train.txt') as myfile:\n",
        "                            df = pd.read_csv(myfile, delim_whitespace=True, header=None)\n",
        "                        with inner_zip.open('UCI HAR Dataset/train/y_train.txt') as myfile_y:\n",
        "                            y = pd.read_csv(myfile_y, delim_whitespace=True, header=None)\n",
        "    else:\n",
        "        raise Exception(\"Failed to download or parse the dataset.\")\n",
        "    return df, y"
      ],
      "metadata": {
        "id": "VL7eS_WrVSfK"
      },
      "execution_count": null,
      "outputs": []
    },
    {
      "cell_type": "code",
      "source": [
        "import pandas as pd\n",
        "from sklearn.model_selection import train_test_split\n",
        "from sklearn.preprocessing import LabelEncoder, StandardScaler\n",
        "from sklearn.linear_model import LogisticRegression\n",
        "from sklearn.pipeline import Pipeline\n",
        "from sklearn.metrics import accuracy_score\n",
        "import time\n",
        "\n",
        "# Function to load data (assume it's already defined)\n",
        "\n",
        "# Load dataset\n",
        "df, y = load_data()\n",
        "\n",
        "# Encode class labels\n",
        "label_encoder = LabelEncoder()\n",
        "encoded_y = label_encoder.fit_transform(y.values.ravel())\n",
        "\n",
        "# Scale the features\n",
        "scaler = StandardScaler()\n",
        "df_scaled = scaler.fit_transform(df)\n",
        "\n",
        "# Split the data into training and testing sets (all features)\n",
        "X_train_full, X_test_full, y_train, y_test = train_test_split(df_scaled, encoded_y, test_size=0.2, random_state=42)\n",
        "\n",
        "\n",
        "import time\n",
        "from sklearn.naive_bayes import GaussianNB\n",
        "from sklearn.pipeline import Pipeline\n",
        "from sklearn.metrics import accuracy_score\n",
        "\n",
        "# Baseline model with all features using Naive Bayes\n",
        "start_time = time.time()\n",
        "classifier_pipeline_full = Pipeline([\n",
        "    ('classifier', GaussianNB())\n",
        "])\n",
        "classifier_pipeline_full.fit(X_train_full, y_train)\n",
        "y_pred_full = classifier_pipeline_full.predict(X_test_full)\n",
        "end_time = time.time()\n",
        "full_features_time = end_time - start_time\n",
        "accuracy_full = accuracy_score(y_test, y_pred_full)\n"
      ],
      "metadata": {
        "id": "rkBsRQK4VfRJ"
      },
      "execution_count": null,
      "outputs": []
    },
    {
      "cell_type": "code",
      "source": [
        "from sklearn.cluster import KMeans\n",
        "import numpy as np\n",
        "\n",
        "# K-Means for dimensionality reduction\n",
        "n_clusters = 50\n",
        "kmeans = KMeans(n_clusters=n_clusters, random_state=42, n_init=10)\n",
        "kmeans.fit(df_scaled.T)  # Transpose to treat features as data points\n",
        "selected_features_indices = [np.random.choice(np.where(kmeans.labels_ == i)[0]) for i in range(n_clusters)]\n",
        "selected_features = df_scaled[:, selected_features_indices]\n",
        "\n",
        "# Split the data with reduced features\n",
        "X_train_reduced, X_test_reduced = train_test_split(selected_features, test_size=0.2, random_state=42)\n"
      ],
      "metadata": {
        "id": "YJjX2d3liqpe"
      },
      "execution_count": null,
      "outputs": []
    },
    {
      "cell_type": "code",
      "source": [
        "import time\n",
        "from sklearn.naive_bayes import GaussianNB\n",
        "from sklearn.pipeline import Pipeline\n",
        "from sklearn.metrics import accuracy_score\n",
        "\n",
        "# Model with reduced features using Naive Bayes\n",
        "start_time = time.time()\n",
        "classifier_pipeline_reduced = Pipeline([\n",
        "    ('classifier', GaussianNB())\n",
        "])\n",
        "classifier_pipeline_reduced.fit(X_train_reduced, y_train)\n",
        "y_pred_reduced = classifier_pipeline_reduced.predict(X_test_reduced)\n",
        "end_time = time.time()\n",
        "reduced_features_time = end_time - start_time\n",
        "accuracy_reduced = accuracy_score(y_test, y_pred_reduced)\n",
        "\n",
        "\n",
        "# Visualization\n",
        "plt.figure(figsize=(12, 5))\n",
        "\n",
        "# Accuracy Comparison\n",
        "plt.subplot(1, 2, 1)\n",
        "sns.barplot(x=['Baseline Model', 'K-Means Reduced'], y=[accuracy_full, accuracy_reduced], palette='Blues')\n",
        "plt.ylabel('Accuracy')\n",
        "plt.title('Accuracy Comparison')\n",
        "\n",
        "# Training Time Comparison\n",
        "plt.subplot(1, 2, 2)\n",
        "sns.barplot(x=['Baseline Model', 'K-Means Reduced'], y=[full_features_time, reduced_features_time], palette='Oranges')\n",
        "plt.ylabel('Training Time (seconds)')\n",
        "plt.title('Training Time Comparison')\n",
        "\n",
        "plt.tight_layout()\n",
        "plt.show()\n"
      ],
      "metadata": {
        "id": "8vhPzR52is6n",
        "outputId": "c8e11591-5f8a-49d9-c3ea-ed286fcd986e",
        "colab": {
          "base_uri": "https://localhost:8080/",
          "height": 689
        }
      },
      "execution_count": 26,
      "outputs": [
        {
          "output_type": "stream",
          "name": "stderr",
          "text": [
            "<ipython-input-26-fbea489ef35b>:23: FutureWarning: \n",
            "\n",
            "Passing `palette` without assigning `hue` is deprecated and will be removed in v0.14.0. Assign the `x` variable to `hue` and set `legend=False` for the same effect.\n",
            "\n",
            "  sns.barplot(x=['Baseline Model', 'K-Means Reduced'], y=[accuracy_full, accuracy_reduced], palette='Blues')\n",
            "<ipython-input-26-fbea489ef35b>:29: FutureWarning: \n",
            "\n",
            "Passing `palette` without assigning `hue` is deprecated and will be removed in v0.14.0. Assign the `x` variable to `hue` and set `legend=False` for the same effect.\n",
            "\n",
            "  sns.barplot(x=['Baseline Model', 'K-Means Reduced'], y=[full_features_time, reduced_features_time], palette='Oranges')\n"
          ]
        },
        {
          "output_type": "display_data",
          "data": {
            "text/plain": [
              "<Figure size 1200x500 with 2 Axes>"
            ],
            "image/png": "[encoded data removed]"
          },
          "metadata": {}
        }
      ]
    },
    {
      "cell_type": "code",
      "source": [
        "# Print comparison results\n",
        "print(\"Baseline Model (All Features):\")\n",
        "print(\"Accuracy:\", accuracy_full)\n",
        "print(\"Training Time:\", full_features_time, \"seconds\")\n",
        "print(\"Number of Features:\", X_train_full.shape[1])\n",
        "\n",
        "print(\"\\nModel with Reduced Features (K-Means):\")\n",
        "print(\"Accuracy:\", accuracy_reduced)\n",
        "print(\"Training Time:\", reduced_features_time, \"seconds\")\n",
        "print(\"Number of Features:\", n_clusters)\n"
      ],
      "metadata": {
        "colab": {
          "base_uri": "https://localhost:8080/"
        },
        "id": "wwJleZ-7iumP",
        "outputId": "c9bf2cae-392f-4479-98ce-748636335c36"
      },
      "execution_count": 27,
      "outputs": [
        {
          "output_type": "stream",
          "name": "stdout",
          "text": [
            "Baseline Model (All Features):\n",
            "Accuracy: 0.7314751869476547\n",
            "Training Time: 0.12798166275024414 seconds\n",
            "Number of Features: 561\n",
            "\n",
            "Model with Reduced Features (K-Means):\n",
            "Accuracy: 0.8416043507817811\n",
            "Training Time: 0.016559839248657227 seconds\n",
            "Number of Features: 60\n"
          ]
        }
      ]
    },
    {
      "cell_type": "code",
      "source": [],
      "metadata": {
        "id": "tQwCv0lRQ1uP"
      },
      "execution_count": null,
      "outputs": []
    }
  ]
}