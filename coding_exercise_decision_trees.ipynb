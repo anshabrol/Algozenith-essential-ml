{
  "nbformat": 4,
  "nbformat_minor": 0,
  "metadata": {
    "colab": {
      "provenance": [],
      "include_colab_link": true
    },
    "kernelspec": {
      "name": "python3",
      "display_name": "Python 3"
    },
    "language_info": {
      "name": "python"
    }
  },
  "cells": [
    {
      "cell_type": "markdown",
      "metadata": {
        "id": "view-in-github",
        "colab_type": "text"
      },
      "source": [
        "<a href=\"https://colab.research.google.com/github/anshabrol/Algozenith-essential-ml/blob/main/coding_exercise_decision_trees.ipynb\" target=\"_parent\"><img src=\"https://colab.research.google.com/assets/colab-badge.svg\" alt=\"Open In Colab\"/></a>"
      ]
    },
    {
      "cell_type": "markdown",
      "source": [
        "**DECISION TREES**"
      ],
      "metadata": {
        "id": "ZgiCSrsg9_5X"
      }
    },
    {
      "cell_type": "markdown",
      "source": [
        "### Code Walkthrough\n",
        "\n",
        "1. **Dataset Initialization**:\n",
        "   - `X`: List of samples where each sample has binary features.\n",
        "   - `y`: List of labels corresponding to each sample.\n",
        "\n",
        "2. **Entropy Calculation**:\n",
        "   - Function `entropy(y)` computes the entropy of the label array `y`.\n",
        "   - For each unique label in `y`, calculate the probability `p_label` and update `entropy_value` using the formula \\( H(y) = - \\sum p(y_i) \\log_2 p(y_i) \\).\n",
        "\n",
        "3. **Information Gain Calculation**:\n",
        "   - Function `information_gain(X, y, feature_index)` calculates the information gain for a specific feature.\n",
        "   - `entropy_before` stores the entropy of the entire label array `y`.\n",
        "   - Split the dataset into `left_y` and `right_y` based on the feature value (0 or 1).\n",
        "   - Calculate the weighted entropy after the split and subtract it from `entropy_before` to get the information gain.\n",
        "\n",
        "4. **Finding the Best Feature to Split**:\n",
        "   - Function `find_best_feature_to_split(X, y)` iterates through each feature and calculates the information gain.\n",
        "   - Track the feature with the highest information gain and return it as the best feature to split on.\n",
        "\n",
        "### Task Walkthrough\n",
        "\n",
        "1. **Task 1: Implement the Entropy Calculation**:\n",
        "   - For each unique label in `y`, calculate its probability and use it to compute the entropy.\n",
        "   ```python\n",
        "   p_label = y.count(label) / len(y)\n",
        "   entropy_value -= p_label * log2(p_label)\n",
        "   ```\n",
        "\n",
        "2. **Task 2: Split the Dataset Based on the Feature**:\n",
        "   - Split `y` into `left_y` and `right_y` based on whether the corresponding feature in `X` is 0 or 1.\n",
        "   ```python\n",
        "   left_y = [y[i] for i in range(len(X)) if X[i][feature_index] == 0]\n",
        "   right_y = [y[i] for i in range(len(X)) if X[i][feature_index] == 1]\n",
        "   ```\n",
        "\n",
        "3. **Task 3: Calculate Information Gain**:\n",
        "   - Compute the weighted entropy after the split and subtract it from the entropy before the split.\n",
        "   ```python\n",
        "   info_gain = entropy_before - weighted_entropy_after\n",
        "   ```"
      ],
      "metadata": {
        "id": "8RmPUYX_-ERw"
      }
    },
    {
      "cell_type": "code",
      "execution_count": null,
      "metadata": {
        "colab": {
          "base_uri": "https://localhost:8080/"
        },
        "id": "oahQ6tAi89o_",
        "outputId": "90b7c09c-1082-4a20-d90d-b6702e3701e7"
      },
      "outputs": [
        {
          "output_type": "stream",
          "name": "stdout",
          "text": [
            "Best feature to split on: 0\n"
          ]
        }
      ],
      "source": [
        "# Given dataset\n",
        "X = [\n",
        "    [1, 0, 1],  # Sample 1\n",
        "    [1, 1, 0],  # Sample 2\n",
        "    [0, 0, 1],  # Sample 3\n",
        "    [1, 0, 0],  # Sample 4\n",
        "    [0, 1, 1],  # Sample 5\n",
        "    [0, 1, 0],  # Sample 6\n",
        "    [1, 1, 1],  # Sample 7\n",
        "    [0, 0, 0],  # Sample 8\n",
        "    [1, 0, 1],  # Sample 9\n",
        "    [1, 1, 1],  # Sample 10\n",
        "    [0, 1, 0],  # Sample 11\n",
        "    [1, 0, 0],  # Sample 12\n",
        "    [0, 0, 1],  # Sample 13\n",
        "    [0, 1, 1],  # Sample 14\n",
        "    [1, 1, 0],  # Sample 15\n",
        "]\n",
        "\n",
        "y = [0, 1, 1, 1, 1, 0, 1, 0, 1, 1, 0, 1, 1, 0, 1]  # Labels corresponding to the samples\n",
        "\n",
        "# Function to calculate entropy\n",
        "def entropy(y):\n",
        "\n",
        "    from math import log2\n",
        "    unique_labels = set(y)\n",
        "    entropy_value = 0.0\n",
        "    for label in unique_labels:\n",
        "        # TASK 1: Implement the entropy calculation for every value of y (add -p log p where p is the probability of that value of y)\n",
        "        p_label =\n",
        "        entropy_value\n",
        "\n",
        "    return entropy_value\n",
        "\n",
        "# Function to calculate information gain\n",
        "def information_gain(X, y, feature_index):\n",
        "    # Calculate the entropy before the split and subtract the weighted entropy after the split\n",
        "    entropy_before = entropy(y)\n",
        "\n",
        "    # TASK 2: Split the dataset based on the feature\n",
        "    left_y =\n",
        "    right_y =\n",
        "\n",
        "    # Calculate the weighted entropy after the split\n",
        "    left_entropy = entropy(left_y)\n",
        "    right_entropy = entropy(right_y)\n",
        "    weighted_entropy_after = (len(left_y) / len(y)) * left_entropy + (len(right_y) / len(y)) * right_entropy\n",
        "\n",
        "    # TASK 3: Calculate information gain\n",
        "    info_gain =\n",
        "    return info_gain\n",
        "\n",
        "# Function to find the best feature to split the dataset\n",
        "def find_best_feature_to_split(X, y):\n",
        "    # Task 3: Implement the function to find the best feature\n",
        "    best_feature = -1\n",
        "    best_info_gain = -1\n",
        "    n_features = len(X[0])\n",
        "    for feature_index in range(n_features):\n",
        "        gain = information_gain(X, y, feature_index)\n",
        "        if gain > best_info_gain:\n",
        "            best_info_gain = gain\n",
        "            best_feature = feature_index\n",
        "    return best_feature\n",
        "\n",
        "# Find the best feature to split\n",
        "best_feature = find_best_feature_to_split(X, y)\n",
        "print(\"Best feature to split on:\", best_feature)\n"
      ]
    },
    {
      "cell_type": "markdown",
      "source": [
        "**SOLUTION**"
      ],
      "metadata": {
        "id": "6T1hm4Ov9-Kl"
      }
    },
    {
      "cell_type": "code",
      "source": [
        "# Given dataset\n",
        "X = [\n",
        "    [1, 0, 1],  # Sample 1\n",
        "    [1, 1, 0],  # Sample 2\n",
        "    [0, 0, 1],  # Sample 3\n",
        "    [1, 0, 0],  # Sample 4\n",
        "    [0, 1, 1],  # Sample 5\n",
        "    [0, 1, 0],  # Sample 6\n",
        "    [1, 1, 1],  # Sample 7\n",
        "    [0, 0, 0],  # Sample 8\n",
        "    [1, 0, 1],  # Sample 9\n",
        "    [1, 1, 1],  # Sample 10\n",
        "    [0, 1, 0],  # Sample 11\n",
        "    [1, 0, 0],  # Sample 12\n",
        "    [0, 0, 1],  # Sample 13\n",
        "    [0, 1, 1],  # Sample 14\n",
        "    [1, 1, 0],  # Sample 15\n",
        "]\n",
        "\n",
        "y = [0, 1, 1, 1, 1, 0, 1, 0, 1, 1, 0, 1, 1, 0, 1]  # Labels corresponding to the samples\n",
        "\n",
        "# Function to calculate entropy\n",
        "def entropy(y):\n",
        "    from math import log2\n",
        "    unique_labels = set(y)\n",
        "    entropy_value = 0.0\n",
        "    for label in unique_labels:\n",
        "        # TASK 1: Implement the entropy calculation for every value of y (add -p log p where p is the probability of that value of y)\n",
        "        p_label = y.count(label) / len(y)\n",
        "        entropy_value -= p_label * log2(p_label)\n",
        "    return entropy_value\n",
        "\n",
        "# Function to calculate information gain\n",
        "def information_gain(X, y, feature_index):\n",
        "    # Calculate the entropy before the split and subtract the weighted entropy after the split\n",
        "    entropy_before = entropy(y)\n",
        "\n",
        "    # TASK 2: Split the dataset based on the feature\n",
        "    left_y = [y[i] for i in range(len(X)) if X[i][feature_index] == 0]\n",
        "    right_y = [y[i] for i in range(len(X)) if X[i][feature_index] == 1]\n",
        "\n",
        "    # Calculate the weighted entropy after the split\n",
        "    left_entropy = entropy(left_y)\n",
        "    right_entropy = entropy(right_y)\n",
        "    weighted_entropy_after = (len(left_y) / len(y)) * left_entropy + (len(right_y) / len(y)) * right_entropy\n",
        "\n",
        "    # TASK 3: Calculate information gain\n",
        "    info_gain = entropy_before - weighted_entropy_after\n",
        "    return info_gain\n",
        "\n",
        "# Function to find the best feature to split the dataset\n",
        "def find_best_feature_to_split(X, y):\n",
        "    # Task 3: Implement the function to find the best feature\n",
        "    best_feature = -1\n",
        "    best_info_gain = -1\n",
        "    n_features = len(X[0])\n",
        "    for feature_index in range(n_features):\n",
        "        gain = information_gain(X, y, feature_index)\n",
        "        if gain > best_info_gain:\n",
        "            best_info_gain = gain\n",
        "            best_feature = feature_index\n",
        "    return best_feature\n",
        "\n",
        "# Find the best feature to split\n",
        "best_feature = find_best_feature_to_split(X, y)\n",
        "print(\"Best feature to split on:\", best_feature)\n"
      ],
      "metadata": {
        "id": "GdYrZgWG9GHG"
      },
      "execution_count": null,
      "outputs": []
    }
  ]
}